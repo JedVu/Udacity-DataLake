{
 "cells": [
  {
   "cell_type": "code",
   "execution_count": 1,
   "id": "2d889515-ee7e-424f-959e-b9bf7e2ec869",
   "metadata": {
    "execution": {
     "iopub.execute_input": "2022-07-03T06:35:42.602556Z",
     "iopub.status.busy": "2022-07-03T06:35:42.602327Z",
     "iopub.status.idle": "2022-07-03T06:36:09.527017Z",
     "shell.execute_reply": "2022-07-03T06:36:09.526480Z",
     "shell.execute_reply.started": "2022-07-03T06:35:42.602530Z"
    },
    "tags": []
   },
   "outputs": [
    {
     "data": {
      "application/vnd.jupyter.widget-view+json": {
       "model_id": "5b2f732d2499442b83b3233489fa9adb",
       "version_major": 2,
       "version_minor": 0
      },
      "text/plain": [
       "VBox()"
      ]
     },
     "metadata": {},
     "output_type": "display_data"
    },
    {
     "name": "stdout",
     "output_type": "stream",
     "text": [
      "Starting Spark application\n"
     ]
    },
    {
     "data": {
      "text/html": [
       "<table>\n",
       "<tr><th>ID</th><th>YARN Application ID</th><th>Kind</th><th>State</th><th>Spark UI</th><th>Driver log</th><th>User</th><th>Current session?</th></tr><tr><td>1</td><td>application_1656829944622_0002</td><td>pyspark</td><td>idle</td><td><a target=\"_blank\" href=\"http://ip-172-31-79-178.ec2.internal:20888/proxy/application_1656829944622_0002/\" class=\"emr-proxy-link\" emr-resource=\"j-3QTBVSJT5WEIA\n",
       "\" application-id=\"application_1656829944622_0002\">Link</a></td><td><a target=\"_blank\" href=\"http://ip-172-31-79-178.ec2.internal:8042/node/containerlogs/container_1656829944622_0002_01_000001/livy\" >Link</a></td><td>None</td><td>✔</td></tr></table>"
      ],
      "text/plain": [
       "<IPython.core.display.HTML object>"
      ]
     },
     "metadata": {},
     "output_type": "display_data"
    },
    {
     "data": {
      "application/vnd.jupyter.widget-view+json": {
       "model_id": "",
       "version_major": 2,
       "version_minor": 0
      },
      "text/plain": [
       "FloatProgress(value=0.0, bar_style='info', description='Progress:', layout=Layout(height='25px', width='50%'),…"
      ]
     },
     "metadata": {},
     "output_type": "display_data"
    },
    {
     "name": "stdout",
     "output_type": "stream",
     "text": [
      "SparkSession available as 'spark'.\n"
     ]
    },
    {
     "data": {
      "application/vnd.jupyter.widget-view+json": {
       "model_id": "",
       "version_major": 2,
       "version_minor": 0
      },
      "text/plain": [
       "FloatProgress(value=0.0, bar_style='info', description='Progress:', layout=Layout(height='25px', width='50%'),…"
      ]
     },
     "metadata": {},
     "output_type": "display_data"
    }
   ],
   "source": [
    "import configparser\n",
    "from datetime import datetime\n",
    "import os\n",
    "from pyspark.sql import SparkSession\n",
    "from pyspark.sql.functions import udf, col, row_number\n",
    "from pyspark.sql.functions import year, month, dayofmonth, hour, weekofyear, date_format\n",
    "from pyspark.sql.window import Window\n"
   ]
  },
  {
   "cell_type": "code",
   "execution_count": 11,
   "id": "b8658956-a985-4bd3-9375-04f8a47ac5d8",
   "metadata": {
    "execution": {
     "iopub.execute_input": "2022-07-03T06:41:21.910991Z",
     "iopub.status.busy": "2022-07-03T06:41:21.910768Z",
     "iopub.status.idle": "2022-07-03T06:41:21.961131Z",
     "shell.execute_reply": "2022-07-03T06:41:21.960585Z",
     "shell.execute_reply.started": "2022-07-03T06:41:21.910968Z"
    },
    "tags": []
   },
   "outputs": [
    {
     "data": {
      "application/vnd.jupyter.widget-view+json": {
       "model_id": "d347adce4dfe4218b005e8685527f67e",
       "version_major": 2,
       "version_minor": 0
      },
      "text/plain": [
       "VBox()"
      ]
     },
     "metadata": {},
     "output_type": "display_data"
    },
    {
     "data": {
      "application/vnd.jupyter.widget-view+json": {
       "model_id": "",
       "version_major": 2,
       "version_minor": 0
      },
      "text/plain": [
       "FloatProgress(value=0.0, bar_style='info', description='Progress:', layout=Layout(height='25px', width='50%'),…"
      ]
     },
     "metadata": {},
     "output_type": "display_data"
    }
   ],
   "source": [
    "spark = SparkSession.builder\\\n",
    "                     .config(\"spark.jars.packages\",\"org.apache.hadoop:hadoop-aws:2.7.0\")\\\n",
    "                     .getOrCreate()"
   ]
  },
  {
   "cell_type": "code",
   "execution_count": 15,
   "id": "5af5c3a0-785e-422f-b3c7-f691d4fab213",
   "metadata": {
    "execution": {
     "iopub.execute_input": "2022-07-03T06:44:30.474959Z",
     "iopub.status.busy": "2022-07-03T06:44:30.474734Z",
     "iopub.status.idle": "2022-07-03T06:44:30.520635Z",
     "shell.execute_reply": "2022-07-03T06:44:30.520093Z",
     "shell.execute_reply.started": "2022-07-03T06:44:30.474936Z"
    }
   },
   "outputs": [
    {
     "data": {
      "application/vnd.jupyter.widget-view+json": {
       "model_id": "5094baac7afa4ecfb5097de9cbe1a1f4",
       "version_major": 2,
       "version_minor": 0
      },
      "text/plain": [
       "VBox()"
      ]
     },
     "metadata": {},
     "output_type": "display_data"
    },
    {
     "data": {
      "application/vnd.jupyter.widget-view+json": {
       "model_id": "",
       "version_major": 2,
       "version_minor": 0
      },
      "text/plain": [
       "FloatProgress(value=0.0, bar_style='info', description='Progress:', layout=Layout(height='25px', width='50%'),…"
      ]
     },
     "metadata": {},
     "output_type": "display_data"
    }
   ],
   "source": [
    "spark.conf.set(\"spark.sql.parquet.compression.codec\", \"gzip\")"
   ]
  },
  {
   "cell_type": "code",
   "execution_count": 17,
   "id": "956c7d7a-52b1-449c-aad3-b960541c43f8",
   "metadata": {
    "execution": {
     "iopub.execute_input": "2022-07-03T06:46:08.415359Z",
     "iopub.status.busy": "2022-07-03T06:46:08.415139Z",
     "iopub.status.idle": "2022-07-03T06:46:08.464566Z",
     "shell.execute_reply": "2022-07-03T06:46:08.464071Z",
     "shell.execute_reply.started": "2022-07-03T06:46:08.415335Z"
    },
    "tags": []
   },
   "outputs": [
    {
     "data": {
      "application/vnd.jupyter.widget-view+json": {
       "model_id": "ac3ce1f6ffd34e048d4bab711a5c567a",
       "version_major": 2,
       "version_minor": 0
      },
      "text/plain": [
       "VBox()"
      ]
     },
     "metadata": {},
     "output_type": "display_data"
    },
    {
     "data": {
      "application/vnd.jupyter.widget-view+json": {
       "model_id": "",
       "version_major": 2,
       "version_minor": 0
      },
      "text/plain": [
       "FloatProgress(value=0.0, bar_style='info', description='Progress:', layout=Layout(height='25px', width='50%'),…"
      ]
     },
     "metadata": {},
     "output_type": "display_data"
    }
   ],
   "source": [
    "input_data = \"s3://udacity-dend/\"\n",
    "output_data = \"s3://udacity-project-datalake/\""
   ]
  },
  {
   "cell_type": "code",
   "execution_count": 27,
   "id": "dd53b75b-35fc-4adb-beb7-11db24b10409",
   "metadata": {
    "execution": {
     "iopub.execute_input": "2022-07-03T06:49:56.532511Z",
     "iopub.status.busy": "2022-07-03T06:49:56.532163Z",
     "iopub.status.idle": "2022-07-03T06:49:59.809008Z",
     "shell.execute_reply": "2022-07-03T06:49:59.808480Z",
     "shell.execute_reply.started": "2022-07-03T06:49:56.532473Z"
    },
    "tags": []
   },
   "outputs": [
    {
     "data": {
      "application/vnd.jupyter.widget-view+json": {
       "model_id": "6bf2fb3fb8b14f9c80434680ef20c85c",
       "version_major": 2,
       "version_minor": 0
      },
      "text/plain": [
       "VBox()"
      ]
     },
     "metadata": {},
     "output_type": "display_data"
    },
    {
     "data": {
      "application/vnd.jupyter.widget-view+json": {
       "model_id": "",
       "version_major": 2,
       "version_minor": 0
      },
      "text/plain": [
       "FloatProgress(value=0.0, bar_style='info', description='Progress:', layout=Layout(height='25px', width='50%'),…"
      ]
     },
     "metadata": {},
     "output_type": "display_data"
    },
    {
     "name": "stdout",
     "output_type": "stream",
     "text": [
      "root\n",
      " |-- artist_id: string (nullable = true)\n",
      " |-- artist_latitude: double (nullable = true)\n",
      " |-- artist_location: string (nullable = true)\n",
      " |-- artist_longitude: double (nullable = true)\n",
      " |-- artist_name: string (nullable = true)\n",
      " |-- duration: double (nullable = true)\n",
      " |-- num_songs: long (nullable = true)\n",
      " |-- song_id: string (nullable = true)\n",
      " |-- title: string (nullable = true)\n",
      " |-- year: long (nullable = true)"
     ]
    }
   ],
   "source": [
    "# get filepath to song data file\n",
    "song_data = os.path.join(input_data, 'song_data', 'A', 'A', 'A')\n",
    "df = spark.read.json(song_data)\n",
    "df.printSchema()"
   ]
  },
  {
   "cell_type": "code",
   "execution_count": 19,
   "id": "8089b4fe-ed82-47ed-9993-07c76a6e65fa",
   "metadata": {
    "execution": {
     "iopub.execute_input": "2022-07-03T06:46:37.585700Z",
     "iopub.status.busy": "2022-07-03T06:46:37.585477Z",
     "iopub.status.idle": "2022-07-03T06:46:48.894407Z",
     "shell.execute_reply": "2022-07-03T06:46:48.893881Z",
     "shell.execute_reply.started": "2022-07-03T06:46:37.585676Z"
    },
    "tags": []
   },
   "outputs": [
    {
     "data": {
      "application/vnd.jupyter.widget-view+json": {
       "model_id": "d4d26df8bc66464c9f89815ab2a84c88",
       "version_major": 2,
       "version_minor": 0
      },
      "text/plain": [
       "VBox()"
      ]
     },
     "metadata": {},
     "output_type": "display_data"
    },
    {
     "data": {
      "application/vnd.jupyter.widget-view+json": {
       "model_id": "",
       "version_major": 2,
       "version_minor": 0
      },
      "text/plain": [
       "FloatProgress(value=0.0, bar_style='info', description='Progress:', layout=Layout(height='25px', width='50%'),…"
      ]
     },
     "metadata": {},
     "output_type": "display_data"
    },
    {
     "name": "stdout",
     "output_type": "stream",
     "text": [
      "+------------------+--------------------+------------------+----+---------+\n",
      "|           song_id|               title|         artist_id|year| duration|\n",
      "+------------------+--------------------+------------------+----+---------+\n",
      "|SOAFBCP12A8C13CC7D|King Of Scurf (20...|ARTC1LV1187B9A4858|1972|301.40036|\n",
      "|SOKTJDS12AF72A25E5|Drown In My Own T...|ARA23XO1187B9AF18F|   0|  192.522|\n",
      "|SOEKAZG12AB018837E|I'll Slap Your Fa...|ARSVTNL1187B992A91|2001|129.85424|\n",
      "|SOQPWCR12A6D4FB2A3|A Poor Recipe For...|AR73AIO1187B9AD57B|2005|118.07302|\n",
      "|SOBRKGM12A8C139EF6|Welcome to the Pl...|ARXQBR11187B98A2CC|1985|821.05424|\n",
      "+------------------+--------------------+------------------+----+---------+\n",
      "only showing top 5 rows"
     ]
    }
   ],
   "source": [
    "# extract columns to create songs table\n",
    "songs_table = df.select(['song_id', 'title', 'artist_id', 'year', 'duration'])\n",
    "\n",
    "# write songs table to parquet files partitioned by year and artist\n",
    "songs_table.write.parquet(os.path.join(output_data, 'songs'), 'overwrite', partitionBy=['year', 'artist_id'])\n",
    "\n",
    "# show sample data\n",
    "songs_table.show(5)"
   ]
  },
  {
   "cell_type": "code",
   "execution_count": 20,
   "id": "269cf238-3a17-4897-90cd-a2e17a9874fc",
   "metadata": {
    "execution": {
     "iopub.execute_input": "2022-07-03T06:47:12.411541Z",
     "iopub.status.busy": "2022-07-03T06:47:12.411317Z",
     "iopub.status.idle": "2022-07-03T06:47:19.706988Z",
     "shell.execute_reply": "2022-07-03T06:47:19.706296Z",
     "shell.execute_reply.started": "2022-07-03T06:47:12.411518Z"
    }
   },
   "outputs": [
    {
     "data": {
      "application/vnd.jupyter.widget-view+json": {
       "model_id": "83a95b685cb241c9bcfeac76fb32d4e3",
       "version_major": 2,
       "version_minor": 0
      },
      "text/plain": [
       "VBox()"
      ]
     },
     "metadata": {},
     "output_type": "display_data"
    },
    {
     "data": {
      "application/vnd.jupyter.widget-view+json": {
       "model_id": "",
       "version_major": 2,
       "version_minor": 0
      },
      "text/plain": [
       "FloatProgress(value=0.0, bar_style='info', description='Progress:', layout=Layout(height='25px', width='50%'),…"
      ]
     },
     "metadata": {},
     "output_type": "display_data"
    },
    {
     "name": "stdout",
     "output_type": "stream",
     "text": [
      "+------------------+--------------------+--------------------+--------+----------+\n",
      "|         artist_id|                name|            location|latitude| longitude|\n",
      "+------------------+--------------------+--------------------+--------+----------+\n",
      "|ARTC1LV1187B9A4858|  The Bonzo Dog Band|Goldsmith's Colle...| 51.4536|  -0.01802|\n",
      "|ARA23XO1187B9AF18F|     The Smithereens|Carteret, New Jersey|40.57885| -74.21956|\n",
      "|ARSVTNL1187B992A91|       Jonathan King|     London, England|51.50632|  -0.12714|\n",
      "|AR73AIO1187B9AD57B|   Western Addiction|   San Francisco, CA|37.77916|-122.42005|\n",
      "|ARXQBR11187B98A2CC|Frankie Goes To H...|  Liverpool, England|    null|      null|\n",
      "+------------------+--------------------+--------------------+--------+----------+\n",
      "only showing top 5 rows"
     ]
    }
   ],
   "source": [
    "# extract columns to create artists table\n",
    "columns = ['artist_name', 'artist_location', 'artist_latitude', 'artist_longitude']\n",
    "columns = [col + ' as ' + col.replace('artist_', '') for col in columns]\n",
    "artists_table = df.selectExpr('artist_id', *columns)\n",
    "\n",
    "# write artists table to parquet files\n",
    "artists_table.write.parquet(os.path.join(output_data, 'artists'), 'overwrite')\n",
    "\n",
    "# show sample data\n",
    "artists_table.show(5)"
   ]
  },
  {
   "cell_type": "code",
   "execution_count": 21,
   "id": "ca4333e0-356a-42ad-be9f-7963ed7c334a",
   "metadata": {
    "execution": {
     "iopub.execute_input": "2022-07-03T06:47:36.202462Z",
     "iopub.status.busy": "2022-07-03T06:47:36.202238Z",
     "iopub.status.idle": "2022-07-03T06:47:36.261758Z",
     "shell.execute_reply": "2022-07-03T06:47:36.261100Z",
     "shell.execute_reply.started": "2022-07-03T06:47:36.202438Z"
    }
   },
   "outputs": [
    {
     "data": {
      "application/vnd.jupyter.widget-view+json": {
       "model_id": "edab404fceb84ff7bbe0ecc6e75dda14",
       "version_major": 2,
       "version_minor": 0
      },
      "text/plain": [
       "VBox()"
      ]
     },
     "metadata": {},
     "output_type": "display_data"
    },
    {
     "data": {
      "application/vnd.jupyter.widget-view+json": {
       "model_id": "",
       "version_major": 2,
       "version_minor": 0
      },
      "text/plain": [
       "FloatProgress(value=0.0, bar_style='info', description='Progress:', layout=Layout(height='25px', width='50%'),…"
      ]
     },
     "metadata": {},
     "output_type": "display_data"
    },
    {
     "name": "stdout",
     "output_type": "stream",
     "text": [
      "root\n",
      " |-- artist_id: string (nullable = true)\n",
      " |-- artist_latitude: double (nullable = true)\n",
      " |-- artist_location: string (nullable = true)\n",
      " |-- artist_longitude: double (nullable = true)\n",
      " |-- artist_name: string (nullable = true)\n",
      " |-- duration: double (nullable = true)\n",
      " |-- num_songs: long (nullable = true)\n",
      " |-- song_id: string (nullable = true)\n",
      " |-- title: string (nullable = true)\n",
      " |-- year: long (nullable = true)\n",
      "\n",
      "root\n",
      " |-- song_id: string (nullable = true)\n",
      " |-- title: string (nullable = true)\n",
      " |-- artist_id: string (nullable = true)\n",
      " |-- year: long (nullable = true)\n",
      " |-- duration: double (nullable = true)\n",
      "\n",
      "root\n",
      " |-- artist_id: string (nullable = true)\n",
      " |-- name: string (nullable = true)\n",
      " |-- location: string (nullable = true)\n",
      " |-- latitude: double (nullable = true)\n",
      " |-- longitude: double (nullable = true)"
     ]
    }
   ],
   "source": [
    "songs_table.printSchema()\n",
    "artists_table.printSchema()"
   ]
  },
  {
   "cell_type": "code",
   "execution_count": 28,
   "id": "b83e4bbc-3d7c-456c-a349-3ff7cb946419",
   "metadata": {
    "execution": {
     "iopub.execute_input": "2022-07-03T06:50:13.583214Z",
     "iopub.status.busy": "2022-07-03T06:50:13.582990Z",
     "iopub.status.idle": "2022-07-03T06:50:20.870407Z",
     "shell.execute_reply": "2022-07-03T06:50:20.869892Z",
     "shell.execute_reply.started": "2022-07-03T06:50:13.583189Z"
    },
    "tags": []
   },
   "outputs": [
    {
     "data": {
      "application/vnd.jupyter.widget-view+json": {
       "model_id": "ecaab100c81a4e0098eed3357851d97b",
       "version_major": 2,
       "version_minor": 0
      },
      "text/plain": [
       "VBox()"
      ]
     },
     "metadata": {},
     "output_type": "display_data"
    },
    {
     "data": {
      "application/vnd.jupyter.widget-view+json": {
       "model_id": "",
       "version_major": 2,
       "version_minor": 0
      },
      "text/plain": [
       "FloatProgress(value=0.0, bar_style='info', description='Progress:', layout=Layout(height='25px', width='50%'),…"
      ]
     },
     "metadata": {},
     "output_type": "display_data"
    },
    {
     "name": "stdout",
     "output_type": "stream",
     "text": [
      "root\n",
      " |-- artist: string (nullable = true)\n",
      " |-- auth: string (nullable = true)\n",
      " |-- firstName: string (nullable = true)\n",
      " |-- gender: string (nullable = true)\n",
      " |-- itemInSession: long (nullable = true)\n",
      " |-- lastName: string (nullable = true)\n",
      " |-- length: double (nullable = true)\n",
      " |-- level: string (nullable = true)\n",
      " |-- location: string (nullable = true)\n",
      " |-- method: string (nullable = true)\n",
      " |-- page: string (nullable = true)\n",
      " |-- registration: double (nullable = true)\n",
      " |-- sessionId: long (nullable = true)\n",
      " |-- song: string (nullable = true)\n",
      " |-- status: long (nullable = true)\n",
      " |-- ts: long (nullable = true)\n",
      " |-- userAgent: string (nullable = true)\n",
      " |-- userId: string (nullable = true)"
     ]
    }
   ],
   "source": [
    "# get filepath to log data file\n",
    "log_data = input_data + 'log_data/*/*/'\n",
    "# read log data file\n",
    "df = df = spark.read.json(log_data)\n",
    "# filter by actions for song plays\n",
    "df = df.filter(df.page == 'NextSong').dropDuplicates()\n",
    "df.printSchema()"
   ]
  },
  {
   "cell_type": "code",
   "execution_count": 23,
   "id": "921e7abb-a507-4731-b92e-cf25b67d7487",
   "metadata": {
    "execution": {
     "iopub.execute_input": "2022-07-03T06:47:58.818935Z",
     "iopub.status.busy": "2022-07-03T06:47:58.818710Z",
     "iopub.status.idle": "2022-07-03T06:48:24.211827Z",
     "shell.execute_reply": "2022-07-03T06:48:24.211304Z",
     "shell.execute_reply.started": "2022-07-03T06:47:58.818913Z"
    },
    "tags": []
   },
   "outputs": [
    {
     "data": {
      "application/vnd.jupyter.widget-view+json": {
       "model_id": "987216a0593644b38ae468eea9cd130c",
       "version_major": 2,
       "version_minor": 0
      },
      "text/plain": [
       "VBox()"
      ]
     },
     "metadata": {},
     "output_type": "display_data"
    },
    {
     "data": {
      "application/vnd.jupyter.widget-view+json": {
       "model_id": "",
       "version_major": 2,
       "version_minor": 0
      },
      "text/plain": [
       "FloatProgress(value=0.0, bar_style='info', description='Progress:', layout=Layout(height='25px', width='50%'),…"
      ]
     },
     "metadata": {},
     "output_type": "display_data"
    },
    {
     "name": "stdout",
     "output_type": "stream",
     "text": [
      "+------+---------+--------+------+-----+\n",
      "|userId|firstName|lastName|gender|level|\n",
      "+------+---------+--------+------+-----+\n",
      "|    80|    Tegan|  Levine|     F| paid|\n",
      "|    48|   Marina|  Sutton|     F| free|\n",
      "|    16|    Rylan|  George|     M| paid|\n",
      "|    83|  Stefany|   White|     F| free|\n",
      "|     8|   Kaylee| Summers|     F| free|\n",
      "+------+---------+--------+------+-----+\n",
      "only showing top 5 rows"
     ]
    }
   ],
   "source": [
    " # extract columns for users table    \n",
    "users_table = df.select('userId', 'firstName', 'lastName', 'gender', 'level') \\\n",
    "                .dropDuplicates()\n",
    "    \n",
    "# write users table to parquet files\n",
    "users_table.write.parquet(output_data  + 'users/' + 'users.parquet', 'overwrite')\n",
    "\n",
    "# show sample data\n",
    "users_table.show(5)"
   ]
  },
  {
   "cell_type": "code",
   "execution_count": 24,
   "id": "43de6962-d77d-43e8-bb0b-52bb0f98b922",
   "metadata": {
    "execution": {
     "iopub.execute_input": "2022-07-03T06:49:01.480088Z",
     "iopub.status.busy": "2022-07-03T06:49:01.479863Z",
     "iopub.status.idle": "2022-07-03T06:49:26.849568Z",
     "shell.execute_reply": "2022-07-03T06:49:26.849032Z",
     "shell.execute_reply.started": "2022-07-03T06:49:01.480063Z"
    }
   },
   "outputs": [
    {
     "data": {
      "application/vnd.jupyter.widget-view+json": {
       "model_id": "f92fffe2b19844c38807ad0a9e0bf807",
       "version_major": 2,
       "version_minor": 0
      },
      "text/plain": [
       "VBox()"
      ]
     },
     "metadata": {},
     "output_type": "display_data"
    },
    {
     "data": {
      "application/vnd.jupyter.widget-view+json": {
       "model_id": "",
       "version_major": 2,
       "version_minor": 0
      },
      "text/plain": [
       "FloatProgress(value=0.0, bar_style='info', description='Progress:', layout=Layout(height='25px', width='50%'),…"
      ]
     },
     "metadata": {},
     "output_type": "display_data"
    },
    {
     "name": "stdout",
     "output_type": "stream",
     "text": [
      "+-------------------+----+---+-----+----+----+\n",
      "|         start_time|hour|day|month|year|week|\n",
      "+-------------------+----+---+-----+----+----+\n",
      "|2018-11-15 21:54:05|  21| 15|   11|2018|  46|\n",
      "|2018-11-05 04:45:12|   4|  5|   11|2018|  45|\n",
      "|2018-11-09 23:24:09|  23|  9|   11|2018|  45|\n",
      "|2018-11-15 11:25:06|  11| 15|   11|2018|  46|\n",
      "|2018-11-23 02:35:36|   2| 23|   11|2018|  47|\n",
      "+-------------------+----+---+-----+----+----+\n",
      "only showing top 5 rows"
     ]
    }
   ],
   "source": [
    "# create timestamp column from original timestamp column\n",
    "get_timestamp = udf(lambda x:  datetime.fromtimestamp(x/1000).strftime('%Y-%m-%d %H:%M:%S'))\n",
    "df_time_cvt = df.withColumn('timestamp', get_timestamp(df.ts))\n",
    "\n",
    "# create datetime column from original timestamp column\n",
    "get_datetime = udf(lambda x: datetime.fromtimestamp(x/1000).strftime('%Y-%m-%d %H:%M:%S'))\n",
    "df_time_cvt = df_time_cvt.withColumn(\"datetime\", get_datetime(df.ts))\n",
    "\n",
    "# extract columns to create time table\n",
    "time_table = df_time_cvt.select(\n",
    "    col('datetime').alias('start_time'),\n",
    "    hour('datetime').alias('hour'),\n",
    "    dayofmonth('datetime').alias('day'),\n",
    "    month('datetime').alias('month'),\n",
    "    year('datetime').alias('year'),\n",
    "    weekofyear('datetime').alias('week')\n",
    ").dropDuplicates()\n",
    "\n",
    "# write time table to parquet files partitioned by year and month\n",
    "time_table.write.parquet(output_data + 'time/' + 'time.parquet', 'overwrite', partitionBy=['year','month'])\n",
    "\n",
    "# show sample data\n",
    "time_table.show(5)"
   ]
  },
  {
   "cell_type": "code",
   "execution_count": 25,
   "id": "9abbcecf-1226-4431-871e-6448eab62b5e",
   "metadata": {
    "execution": {
     "iopub.execute_input": "2022-07-03T06:49:26.850724Z",
     "iopub.status.busy": "2022-07-03T06:49:26.850526Z",
     "iopub.status.idle": "2022-07-03T06:49:46.220349Z",
     "shell.execute_reply": "2022-07-03T06:49:46.219643Z",
     "shell.execute_reply.started": "2022-07-03T06:49:26.850695Z"
    }
   },
   "outputs": [
    {
     "data": {
      "application/vnd.jupyter.widget-view+json": {
       "model_id": "fc062805749b4abc8e1f2983b883fce6",
       "version_major": 2,
       "version_minor": 0
      },
      "text/plain": [
       "VBox()"
      ]
     },
     "metadata": {},
     "output_type": "display_data"
    },
    {
     "data": {
      "application/vnd.jupyter.widget-view+json": {
       "model_id": "",
       "version_major": 2,
       "version_minor": 0
      },
      "text/plain": [
       "FloatProgress(value=0.0, bar_style='info', description='Progress:', layout=Layout(height='25px', width='50%'),…"
      ]
     },
     "metadata": {},
     "output_type": "display_data"
    },
    {
     "name": "stdout",
     "output_type": "stream",
     "text": [
      "+-----------+-------------------+-------+-----+------------------+------------------+----------+--------------------+--------------------+-----+----+\n",
      "|songplay_id|         start_time|user_id|level|           song_id|         artist_id|session_id|            location|          user_agent|month|year|\n",
      "+-----------+-------------------+-------+-----+------------------+------------------+----------+--------------------+--------------------+-----+----+\n",
      "|          1|2018-11-06 20:05:45|     97| paid|SOBLFFE12AF72AA5BA|ARJNIUY12298900C91|       293|Lansing-East Lans...|\"Mozilla/5.0 (X11...|   11|2018|\n",
      "|          1|2018-11-27 17:08:42|     36| paid|SORRNOC12AB017F52B|ARSZ7L31187FB4E610|       957|Janesville-Beloit...|\"Mozilla/5.0 (Win...|   11|2018|\n",
      "|          1|2018-11-20 00:51:41|     25| paid|SONRWUU12AF72A4283|ARGE7G11187FB37E05|       594|    Marinette, WI-MI|\"Mozilla/5.0 (Win...|   11|2018|\n",
      "|          1|2018-11-28 16:54:51|     14| free|SOIGHOD12A8C13B5A1|ARY589G1187B9A9F4E|       929|       Red Bluff, CA|Mozilla/5.0 (Wind...|   11|2018|\n",
      "|          1|2018-11-19 15:36:04|     49| paid|SOFSOCN12A8C143F5D|ARXR32B1187FB57099|       724|San Francisco-Oak...|Mozilla/5.0 (Wind...|   11|2018|\n",
      "+-----------+-------------------+-------+-----+------------------+------------------+----------+--------------------+--------------------+-----+----+\n",
      "only showing top 5 rows"
     ]
    }
   ],
   "source": [
    "# read in song data to use for songplays table\n",
    "song_df = spark.read.json(input_data + 'song_data/A/A/A/*.json')\n",
    "\n",
    "# extract columns from joined song and log datasets to create songplays table \n",
    "songplays_table = df_time_cvt.join(\n",
    "    song_df,\n",
    "\n",
    "    # because I only take small subset, so I have to use this condition, it's not correct but it has data output\n",
    "    (df.song == song_df.title) | (df.artist == song_df.artist_name), \n",
    "\n",
    "    # when you run full dataset, you can use this condition\n",
    "    # (df_time_cvt.song == song_df.title) & (df_time_cvt.artist == song_df.artist_name) & (df_time_cvt.length == song_df.duration),\n",
    "    how='inner')\n",
    "\n",
    "songplays_table = songplays_table.withColumn(\"songplay_id\", row_number().over(Window.partitionBy('timestamp').orderBy(\"timestamp\")))\n",
    "\n",
    "songplays_table = songplays_table.select(\n",
    "    \"songplay_id\", \"timestamp\", \"userId\",\n",
    "    \"level\", \"song_id\", \"artist_id\",\n",
    "    \"sessionId\", \"location\", \"userAgent\",\n",
    "    month('timestamp').alias('month'),\n",
    "    year('timestamp').alias('year')) \\\n",
    "        .withColumnRenamed(\"userId\",\"user_id\")        \\\n",
    "        .withColumnRenamed(\"timestamp\",\"start_time\")  \\\n",
    "        .withColumnRenamed(\"sessionId\",\"session_id\")  \\\n",
    "        .withColumnRenamed(\"userAgent\", \"user_agent\")\n",
    "\n",
    "songplays_table = songplays_table.dropDuplicates()\n",
    "\n",
    "# write songplays table to parquet files partitioned by year and month\n",
    "songplays_table.write.parquet(output_data + 'songplays/' + 'songplays.parquet', 'overwrite', partitionBy=['year','month'])\n",
    "\n",
    "# show sample data\n",
    "songplays_table.show(5)"
   ]
  },
  {
   "cell_type": "code",
   "execution_count": 26,
   "id": "45c5c0f1-174b-4747-b417-e43a189a80ba",
   "metadata": {
    "execution": {
     "iopub.execute_input": "2022-07-03T06:49:46.221650Z",
     "iopub.status.busy": "2022-07-03T06:49:46.221484Z",
     "iopub.status.idle": "2022-07-03T06:49:46.275509Z",
     "shell.execute_reply": "2022-07-03T06:49:46.274885Z",
     "shell.execute_reply.started": "2022-07-03T06:49:46.221629Z"
    }
   },
   "outputs": [
    {
     "data": {
      "application/vnd.jupyter.widget-view+json": {
       "model_id": "e7f830563d7c4403a701ffdc7bbf7c7a",
       "version_major": 2,
       "version_minor": 0
      },
      "text/plain": [
       "VBox()"
      ]
     },
     "metadata": {},
     "output_type": "display_data"
    },
    {
     "data": {
      "application/vnd.jupyter.widget-view+json": {
       "model_id": "",
       "version_major": 2,
       "version_minor": 0
      },
      "text/plain": [
       "FloatProgress(value=0.0, bar_style='info', description='Progress:', layout=Layout(height='25px', width='50%'),…"
      ]
     },
     "metadata": {},
     "output_type": "display_data"
    },
    {
     "name": "stdout",
     "output_type": "stream",
     "text": [
      "root\n",
      " |-- artist: string (nullable = true)\n",
      " |-- auth: string (nullable = true)\n",
      " |-- firstName: string (nullable = true)\n",
      " |-- gender: string (nullable = true)\n",
      " |-- itemInSession: long (nullable = true)\n",
      " |-- lastName: string (nullable = true)\n",
      " |-- length: double (nullable = true)\n",
      " |-- level: string (nullable = true)\n",
      " |-- location: string (nullable = true)\n",
      " |-- method: string (nullable = true)\n",
      " |-- page: string (nullable = true)\n",
      " |-- registration: double (nullable = true)\n",
      " |-- sessionId: long (nullable = true)\n",
      " |-- song: string (nullable = true)\n",
      " |-- status: long (nullable = true)\n",
      " |-- ts: long (nullable = true)\n",
      " |-- userAgent: string (nullable = true)\n",
      " |-- userId: string (nullable = true)\n",
      "\n",
      "root\n",
      " |-- userId: string (nullable = true)\n",
      " |-- firstName: string (nullable = true)\n",
      " |-- lastName: string (nullable = true)\n",
      " |-- gender: string (nullable = true)\n",
      " |-- level: string (nullable = true)\n",
      "\n",
      "root\n",
      " |-- start_time: string (nullable = true)\n",
      " |-- hour: integer (nullable = true)\n",
      " |-- day: integer (nullable = true)\n",
      " |-- month: integer (nullable = true)\n",
      " |-- year: integer (nullable = true)\n",
      " |-- week: integer (nullable = true)\n",
      "\n",
      "root\n",
      " |-- songplay_id: integer (nullable = true)\n",
      " |-- start_time: string (nullable = true)\n",
      " |-- user_id: string (nullable = true)\n",
      " |-- level: string (nullable = true)\n",
      " |-- song_id: string (nullable = true)\n",
      " |-- artist_id: string (nullable = true)\n",
      " |-- session_id: long (nullable = true)\n",
      " |-- location: string (nullable = true)\n",
      " |-- user_agent: string (nullable = true)\n",
      " |-- month: integer (nullable = true)\n",
      " |-- year: integer (nullable = true)"
     ]
    }
   ],
   "source": [
    "users_table.printSchema()\n",
    "time_table.printSchema()\n",
    "songplays_table.printSchema()"
   ]
  },
  {
   "cell_type": "code",
   "execution_count": null,
   "id": "6cf1e9a8-f908-441e-ad49-46fdcd6c460e",
   "metadata": {},
   "outputs": [],
   "source": []
  }
 ],
 "metadata": {
  "kernelspec": {
   "display_name": "PySpark",
   "language": "python",
   "name": "pysparkkernel"
  },
  "language_info": {
   "codemirror_mode": {
    "name": "python",
    "version": 3
   },
   "file_extension": ".py",
   "mimetype": "text/x-python",
   "name": "pyspark",
   "pygments_lexer": "python3"
  }
 },
 "nbformat": 4,
 "nbformat_minor": 5
}
